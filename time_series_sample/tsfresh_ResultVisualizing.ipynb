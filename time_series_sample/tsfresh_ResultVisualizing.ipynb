{
 "cells": [
  {
   "cell_type": "code",
   "execution_count": null,
   "id": "b8e62954",
   "metadata": {},
   "outputs": [],
   "source": [
    "import numpy as np\n",
    "import matplotlib.pyplot as plt\n",
    "import pandas as pd"
   ]
  },
  {
   "cell_type": "code",
   "execution_count": null,
   "id": "8d9f60ee",
   "metadata": {},
   "outputs": [],
   "source": [
    "import holoviews as hv\n",
    "hv.extension('bokeh')\n",
    "from bokeh.io import export_png"
   ]
  },
  {
   "cell_type": "code",
   "execution_count": null,
   "id": "824eb474",
   "metadata": {},
   "outputs": [],
   "source": [
    "#data保存名の指定\n",
    "resultFileName_nomal = \"nomal.pkl\"\n",
    "resultFileName_anomaly = \"anomaly.pkl\"\n",
    "resultFileName_test = \"test.pkl\""
   ]
  },
  {
   "cell_type": "code",
   "execution_count": null,
   "id": "f74fc203",
   "metadata": {},
   "outputs": [],
   "source": [
    "df_from_pkl_nomal = pd.read_pickle(resultFileName_nomal)\n",
    "df_from_pkl_anomaly = pd.read_pickle(resultFileName_anomaly)"
   ]
  },
  {
   "cell_type": "code",
   "execution_count": null,
   "id": "8adadbcc",
   "metadata": {},
   "outputs": [],
   "source": [
    "df_all =  pd.concat([df_from_pkl_nomal, df_from_pkl_anomaly], axis=0)\n",
    "df_all = df_all.reset_index()\n",
    "df_all = df_all.reset_index()"
   ]
  },
  {
   "cell_type": "code",
   "execution_count": null,
   "id": "834b6600",
   "metadata": {},
   "outputs": [],
   "source": [
    "df_all.columns"
   ]
  },
  {
   "cell_type": "code",
   "execution_count": null,
   "id": "992f913b",
   "metadata": {},
   "outputs": [],
   "source": [
    "#Bokeh htmlでグラフを保存\n",
    "for i in range(len(df_all)):\n",
    "    features_graph = hv.Scatter(df_all,kdims=[\"level_0\"],vdims=[df_all.columns[i]])\n",
    "\n",
    "    # 表示\n",
    "    features_graph\n",
    "\n",
    "    # タイトルの設定\n",
    "    features_graph.opts(title=df_all.columns[i])\n",
    "    # グリッドの描画\n",
    "    features_graph.opts(show_grid=True)\n",
    "    # 軸ラベルの変更\n",
    "    features_graph.opts(xlabel=\"dataNo\", ylabel=\"score\")\n",
    "\n",
    "    # 描画サイズの変更\n",
    "    features_graph.opts(width=1280, height=640)\n",
    "\n",
    "    # グラフをhtmlで保存\n",
    "    renderer = hv.renderer('bokeh')\n",
    "    renderer.save(features_graph, df_all.columns[i].replace('\"', ''))\n"
   ]
  },
  {
   "cell_type": "code",
   "execution_count": null,
   "id": "860bb257",
   "metadata": {},
   "outputs": [],
   "source": [
    "#matplot pngでグラフを保存\n",
    "for i in range(len(df_all)):\n",
    "    # ここからグラフ描画\n",
    "    # フォントの種類とサイズを設定する。\n",
    "    plt.rcParams['font.size'] = 14\n",
    "    plt.rcParams['font.family'] = 'Times New Roman'\n",
    "\n",
    "    # 目盛を内側にする。\n",
    "    plt.rcParams['xtick.direction'] = 'in'\n",
    "    plt.rcParams['ytick.direction'] = 'in'\n",
    "\n",
    "    # グラフの上下左右に目盛線を付ける。\n",
    "    fig, px = plt.subplots()\n",
    "\n",
    "    # 軸のラベルを設定する。\n",
    "    px.set_xlabel('DataNo')\n",
    "    px.set_ylabel('Score')\n",
    "    \n",
    "    #タイトルの設定\n",
    "    px.set_title(df_all.columns[i].replace('\"', ''))\n",
    "    # データプロットの準備とともに、ラベルと線の太さ、凡例の設置を行う。\n",
    "    plt.scatter(df_all[\"level_0\"], df_all[df_all.columns[i]], label='signal', lw=1)\n",
    "\n",
    "    fig.tight_layout()\n",
    "    plt.legend()\n",
    "\n",
    "    # グラフをpngで保存\n",
    "    fig.savefig(df_all.columns[i].replace('\"', '')+\".png\")"
   ]
  },
  {
   "cell_type": "code",
   "execution_count": null,
   "id": "8da4645e",
   "metadata": {},
   "outputs": [],
   "source": []
  }
 ],
 "metadata": {
  "kernelspec": {
   "display_name": "Python 3 (ipykernel)",
   "language": "python",
   "name": "python3"
  },
  "language_info": {
   "codemirror_mode": {
    "name": "ipython",
    "version": 3
   },
   "file_extension": ".py",
   "mimetype": "text/x-python",
   "name": "python",
   "nbconvert_exporter": "python",
   "pygments_lexer": "ipython3",
   "version": "3.9.6"
  }
 },
 "nbformat": 4,
 "nbformat_minor": 5
}
